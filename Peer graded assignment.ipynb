{
  "metadata": {
    "language_info": {
      "codemirror_mode": {
        "name": "python",
        "version": 3
      },
      "file_extension": ".py",
      "mimetype": "text/x-python",
      "name": "python",
      "nbconvert_exporter": "python",
      "pygments_lexer": "ipython3",
      "version": "3.8"
    },
    "kernelspec": {
      "name": "python",
      "display_name": "Pyolite",
      "language": "python"
    }
  },
  "nbformat_minor": 4,
  "nbformat": 4,
  "cells": [
    {
      "cell_type": "markdown",
      "source": "# My Jupyter Notebook on IBM Watson Studio",
      "metadata": {
        "tags": []
      }
    },
    {
      "cell_type": "markdown",
      "source": "**Glory Aderinwale**\n\nData Scientist\n",
      "metadata": {
        "tags": []
      }
    },
    {
      "cell_type": "markdown",
      "source": "*I am interested in data science because I can analyze data gotten from past records, and use the inferences gotten to make good and valuable business decisions*",
      "metadata": {}
    },
    {
      "cell_type": "markdown",
      "source": "### The code below shows the product of 6 and 2",
      "metadata": {}
    },
    {
      "cell_type": "code",
      "source": "print(6*2)",
      "metadata": {
        "trusted": true
      },
      "execution_count": 1,
      "outputs": [
        {
          "name": "stdout",
          "text": "12\n",
          "output_type": "stream"
        }
      ]
    },
    {
      "cell_type": "markdown",
      "source": "Cash Invoice\n***\n|Items|Quantity|Price|\n|---|---|---|\n|Air conditioner|1|$2000|\n|Wall clock|2|~~$50~~|\n|Footmat|1|$70|",
      "metadata": {}
    }
  ]
}